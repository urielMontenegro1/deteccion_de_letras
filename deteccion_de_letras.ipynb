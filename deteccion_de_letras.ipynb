{
 "cells": [
  {
   "cell_type": "markdown",
   "metadata": {},
   "source": [
    "# deteccion de letras con easyocr"
   ]
  },
  {
   "cell_type": "code",
   "execution_count": 10,
   "metadata": {},
   "outputs": [],
   "source": [
    "import easyocr\n",
    "import cv2"
   ]
  },
  {
   "cell_type": "code",
   "execution_count": 69,
   "metadata": {},
   "outputs": [],
   "source": [
    "def cambiAcento(x,j):\n",
    "    lista=['Á', 'É', 'Í', 'Ó', 'Ú']\n",
    "    lista2=['A','E','I','O','U']\n",
    "\n",
    "    #aux=x.index(lista)\n",
    "    minusculas=x.lower()\n",
    "    newname=minusculas.replace(lista[j].lower(),lista2[j].lower())\n",
    "    \n",
    "\n",
    "    return newname    \n"
   ]
  },
  {
   "cell_type": "code",
   "execution_count": 70,
   "metadata": {},
   "outputs": [
    {
     "name": "stderr",
     "output_type": "stream",
     "text": [
      "CUDA not available - defaulting to CPU. Note: This module is much faster with a GPU.\n",
      "C:\\Users\\elgem\\AppData\\Roaming\\Python\\Python39\\site-packages\\torchvision\\models\\_utils.py:252: UserWarning: Accessing the model URLs via the internal dictionary of the module is deprecated since 0.13 and will be removed in 0.15. Please access them via the appropriate Weights Enum instead.\n",
      "  warnings.warn(\n",
      "C:\\Users\\elgem\\AppData\\Roaming\\Python\\Python39\\site-packages\\torchvision\\models\\_utils.py:208: UserWarning: The parameter 'pretrained' is deprecated since 0.13 and will be removed in 0.15, please use 'weights' instead.\n",
      "  warnings.warn(\n",
      "C:\\Users\\elgem\\AppData\\Roaming\\Python\\Python39\\site-packages\\torchvision\\models\\_utils.py:223: UserWarning: Arguments other than a weight enum or `None` for 'weights' are deprecated since 0.13 and will be removed in 0.15. The current behavior is equivalent to passing `weights=None`.\n",
      "  warnings.warn(msg)\n"
     ]
    },
    {
     "name": "stdout",
     "output_type": "stream",
     "text": [
      "res ([[315, 161], [933, 161], [933, 347], [315, 347]], 'iVIVA', 0.9944798720467933)\n",
      "res ([[198, 334], [1116, 334], [1116, 566], [198, 566]], 'MÉXICO!', 0.996053023597709)\n"
     ]
    }
   ],
   "source": [
    "\n",
    "reader=easyocr.Reader([\"es\"], gpu=True)\n",
    "\n",
    "img= cv2.imread(\"foto3.jpg\")\n",
    "result = reader.readtext(img)\n",
    "j=0\n",
    "\n",
    "for res in result:\n",
    "    print(\"res\",res)\n",
    "    pt0=res[0][0]\n",
    "    pt1=res[0][1]\n",
    "    pt2=res[0][2]\n",
    "    pt3=res[0][3]\n",
    "\n",
    "    cv2.rectangle(img,pt0,(pt1[0],pt1[1]-23),(0,0,0),-1)\n",
    "    \n",
    "\n",
    "    newname=cambiAcento(res[1],j)\n",
    "  \n",
    "\n",
    "    cv2.putText(img,newname,(pt0[0],pt0[1]-3),2,0.8,(255,255,255),1)\n",
    "    \n",
    "\n",
    "    cv2.rectangle(img,pt0,pt2,(255,0,0),2)\n",
    "    \n",
    "    cv2.circle(img,pt0,2,(0,0,0),2) ## izquierda superior\n",
    "    cv2.circle(img,pt1,2,(0,0,0),2)#superior derecho\n",
    "    cv2.circle(img,pt2,2,(0,0,0),2) #inferior derecho\n",
    "    cv2.circle(img,pt3,2,(0,0,0),2)#inferior izquierdo\n",
    "    j=+1\n",
    "\n",
    "cv2.imshow(\"imagen\",img)\n",
    "cv2.waitKey(0)\n",
    "cv2.destroyAllWindows()\n"
   ]
  }
 ],
 "metadata": {
  "kernelspec": {
   "display_name": "Python 3.9.9 64-bit",
   "language": "python",
   "name": "python3"
  },
  "language_info": {
   "codemirror_mode": {
    "name": "ipython",
    "version": 3
   },
   "file_extension": ".py",
   "mimetype": "text/x-python",
   "name": "python",
   "nbconvert_exporter": "python",
   "pygments_lexer": "ipython3",
   "version": "3.9.9"
  },
  "orig_nbformat": 4,
  "vscode": {
   "interpreter": {
    "hash": "11938c6bc6919ae2720b4d5011047913343b08a43b18698fd82dedb0d4417594"
   }
  }
 },
 "nbformat": 4,
 "nbformat_minor": 2
}
