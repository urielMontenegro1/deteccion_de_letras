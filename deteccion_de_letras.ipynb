{
 "cells": [
  {
   "cell_type": "markdown",
   "metadata": {},
   "source": [
    "# deteccion de letras con easyocr"
   ]
  },
  {
   "cell_type": "code",
   "execution_count": 1,
   "metadata": {},
   "outputs": [],
   "source": [
    "import easyocr\n",
    "import cv2"
   ]
  },
  {
   "cell_type": "code",
   "execution_count": 153,
   "metadata": {},
   "outputs": [],
   "source": [
    "def cambiAcento(x):\n",
    "    regreso=\" \"\n",
    "    aux=x.index('á')>0\n",
    "    aux2=x.index('é')>0\n",
    "    aux3=x.index('í')>0\n",
    "    aux4=x.index('ó')>0\n",
    "    aux5=x.index('ú')>0\n",
    "\n",
    "    aux1_1=x.index('É')>0\n",
    "\n",
    "    if aux:\n",
    "        newname=x.replace('á','a');\n",
    "        regreso*=newname\n",
    "\n",
    "    elif aux2:\n",
    "        newname1=x.replace('é','e');\n",
    "        regreso*=newname1\n",
    "\n",
    "    elif aux3:\n",
    "        newname2=x.replace('í','i');\n",
    "        regreso*=newname2\n",
    "\n",
    "    elif aux4:\n",
    "        newname3=x.replace('ó','o');\n",
    "        regreso*=newname3\n",
    "\n",
    "    elif aux5:\n",
    "        newname4=x.replace('ú','u');\n",
    "        regreso*=newname3        \n",
    "\n",
    "    elif aux1_1:\n",
    "        newname1_1=x.replace('É','E');\n",
    "        regreso*=newname1_1\n",
    "\n",
    "    return regreso     \n"
   ]
  },
  {
   "cell_type": "code",
   "execution_count": 154,
   "metadata": {},
   "outputs": [
    {
     "name": "stderr",
     "output_type": "stream",
     "text": [
      "CUDA not available - defaulting to CPU. Note: This module is much faster with a GPU.\n"
     ]
    },
    {
     "name": "stdout",
     "output_type": "stream",
     "text": [
      "res ([[315, 161], [933, 161], [933, 347], [315, 347]], 'iVIVA', 0.9944798720467933)\n"
     ]
    },
    {
     "ename": "ValueError",
     "evalue": "substring not found",
     "output_type": "error",
     "traceback": [
      "\u001b[1;31m---------------------------------------------------------------------------\u001b[0m",
      "\u001b[1;31mValueError\u001b[0m                                Traceback (most recent call last)",
      "\u001b[1;32m~\\AppData\\Local\\Temp/ipykernel_18840/2726020909.py\u001b[0m in \u001b[0;36m<module>\u001b[1;34m\u001b[0m\n\u001b[0;32m     14\u001b[0m \u001b[1;33m\u001b[0m\u001b[0m\n\u001b[0;32m     15\u001b[0m \u001b[1;33m\u001b[0m\u001b[0m\n\u001b[1;32m---> 16\u001b[1;33m     \u001b[0mnewname\u001b[0m\u001b[1;33m=\u001b[0m\u001b[0mcambiAcento\u001b[0m\u001b[1;33m(\u001b[0m\u001b[0mres\u001b[0m\u001b[1;33m[\u001b[0m\u001b[1;36m1\u001b[0m\u001b[1;33m]\u001b[0m\u001b[1;33m)\u001b[0m\u001b[1;33m\u001b[0m\u001b[1;33m\u001b[0m\u001b[0m\n\u001b[0m\u001b[0;32m     17\u001b[0m \u001b[1;33m\u001b[0m\u001b[0m\n\u001b[0;32m     18\u001b[0m \u001b[1;33m\u001b[0m\u001b[0m\n",
      "\u001b[1;32m~\\AppData\\Local\\Temp/ipykernel_18840/329404384.py\u001b[0m in \u001b[0;36mcambiAcento\u001b[1;34m(x)\u001b[0m\n\u001b[0;32m      1\u001b[0m \u001b[1;32mdef\u001b[0m \u001b[0mcambiAcento\u001b[0m\u001b[1;33m(\u001b[0m\u001b[0mx\u001b[0m\u001b[1;33m)\u001b[0m\u001b[1;33m:\u001b[0m\u001b[1;33m\u001b[0m\u001b[1;33m\u001b[0m\u001b[0m\n\u001b[0;32m      2\u001b[0m     \u001b[0mregreso\u001b[0m\u001b[1;33m=\u001b[0m\u001b[1;34m\" \"\u001b[0m\u001b[1;33m\u001b[0m\u001b[1;33m\u001b[0m\u001b[0m\n\u001b[1;32m----> 3\u001b[1;33m     \u001b[0maux1_1\u001b[0m\u001b[1;33m=\u001b[0m\u001b[0mx\u001b[0m\u001b[1;33m.\u001b[0m\u001b[0mindex\u001b[0m\u001b[1;33m(\u001b[0m\u001b[1;34m'É'\u001b[0m\u001b[1;33m)\u001b[0m\u001b[1;33m>\u001b[0m\u001b[1;36m0\u001b[0m\u001b[1;33m\u001b[0m\u001b[1;33m\u001b[0m\u001b[0m\n\u001b[0m\u001b[0;32m      4\u001b[0m     \u001b[0maux\u001b[0m\u001b[1;33m=\u001b[0m\u001b[0mx\u001b[0m\u001b[1;33m.\u001b[0m\u001b[0mindex\u001b[0m\u001b[1;33m(\u001b[0m\u001b[1;34m'á'\u001b[0m\u001b[1;33m)\u001b[0m\u001b[1;33m>\u001b[0m\u001b[1;36m0\u001b[0m\u001b[1;33m\u001b[0m\u001b[1;33m\u001b[0m\u001b[0m\n\u001b[0;32m      5\u001b[0m     \u001b[0maux2\u001b[0m\u001b[1;33m=\u001b[0m\u001b[0mx\u001b[0m\u001b[1;33m.\u001b[0m\u001b[0mindex\u001b[0m\u001b[1;33m(\u001b[0m\u001b[1;34m'é'\u001b[0m\u001b[1;33m)\u001b[0m\u001b[1;33m>\u001b[0m\u001b[1;36m0\u001b[0m\u001b[1;33m\u001b[0m\u001b[1;33m\u001b[0m\u001b[0m\n",
      "\u001b[1;31mValueError\u001b[0m: substring not found"
     ]
    }
   ],
   "source": [
    "\n",
    "reader=easyocr.Reader([\"es\"], gpu=True)\n",
    "\n",
    "img= cv2.imread(\"foto3.jpg\")\n",
    "result = reader.readtext(img)\n",
    "\n",
    "for res in result:\n",
    "    print(\"res\",res)\n",
    "    pt0=res[0][0]\n",
    "    pt1=res[0][1]\n",
    "    pt2=res[0][2]\n",
    "    pt3=res[0][3]\n",
    "\n",
    "    cv2.rectangle(img,pt0,(pt1[0],pt1[1]-23),(0,0,0),-1)\n",
    "    \n",
    "\n",
    "    newname=cambiAcento(res[1])\n",
    "  \n",
    "\n",
    "    cv2.putText(img,newname,(pt0[0],pt0[1]-3),2,0.8,(255,255,255),1)\n",
    "    \n",
    "\n",
    "    cv2.rectangle(img,pt0,pt2,(255,0,0),2)\n",
    "    \n",
    "    cv2.circle(img,pt0,2,(0,0,0),2) ## izquierda superior\n",
    "    cv2.circle(img,pt1,2,(0,0,0),2)#superior derecho\n",
    "    cv2.circle(img,pt2,2,(0,0,0),2) #inferior derecho\n",
    "    cv2.circle(img,pt3,2,(0,0,0),2)#inferior izquierdo\n",
    "\n",
    "\n",
    "cv2.imshow(\"imagen\",img)\n",
    "cv2.waitKey(0)\n",
    "cv2.destroyAllWindows()\n"
   ]
  },
  {
   "cell_type": "code",
   "execution_count": 122,
   "metadata": {},
   "outputs": [
    {
     "name": "stdout",
     "output_type": "stream",
     "text": [
      "arboles\n"
     ]
    }
   ],
   "source": [
    "print(newname)\n",
    "\n"
   ]
  }
 ],
 "metadata": {
  "kernelspec": {
   "display_name": "Python 3.9.9 64-bit",
   "language": "python",
   "name": "python3"
  },
  "language_info": {
   "codemirror_mode": {
    "name": "ipython",
    "version": 3
   },
   "file_extension": ".py",
   "mimetype": "text/x-python",
   "name": "python",
   "nbconvert_exporter": "python",
   "pygments_lexer": "ipython3",
   "version": "3.9.9"
  },
  "orig_nbformat": 4,
  "vscode": {
   "interpreter": {
    "hash": "11938c6bc6919ae2720b4d5011047913343b08a43b18698fd82dedb0d4417594"
   }
  }
 },
 "nbformat": 4,
 "nbformat_minor": 2
}
